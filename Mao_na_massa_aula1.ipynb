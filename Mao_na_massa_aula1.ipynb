{
 "cells": [
  {
   "cell_type": "markdown",
   "id": "8b43ca9c",
   "metadata": {
    "id": "bXMQlbOMuKkV"
   },
   "source": [
    "# Aula 1"
   ]
  },
  {
   "cell_type": "code",
   "execution_count": null,
   "id": "52a8dd32",
   "metadata": {
    "colab": {
     "base_uri": "https://localhost:8080/"
    },
    "id": "_d6OnajWy4Yc",
    "outputId": "21c39213-2db2-49a3-993b-61b3037d8e69"
   },
   "outputs": [
    {
     "name": "stdout",
     "output_type": "stream",
     "text": [
      "Requirement already satisfied: litellm in /usr/local/lib/python3.10/dist-packages (1.52.3)\n",
      "Requirement already satisfied: aiohttp in /usr/local/lib/python3.10/dist-packages (from litellm) (3.10.10)\n",
      "Requirement already satisfied: click in /usr/local/lib/python3.10/dist-packages (from litellm) (8.1.7)\n",
      "Requirement already satisfied: importlib-metadata>=6.8.0 in /usr/local/lib/python3.10/dist-packages (from litellm) (8.5.0)\n",
      "Requirement already satisfied: jinja2<4.0.0,>=3.1.2 in /usr/local/lib/python3.10/dist-packages (from litellm) (3.1.4)\n",
      "Requirement already satisfied: jsonschema<5.0.0,>=4.22.0 in /usr/local/lib/python3.10/dist-packages (from litellm) (4.23.0)\n",
      "Requirement already satisfied: openai>=1.54.0 in /usr/local/lib/python3.10/dist-packages (from litellm) (1.54.3)\n",
      "Requirement already satisfied: pydantic<3.0.0,>=2.0.0 in /usr/local/lib/python3.10/dist-packages (from litellm) (2.9.2)\n",
      "Requirement already satisfied: python-dotenv>=0.2.0 in /usr/local/lib/python3.10/dist-packages (from litellm) (1.0.1)\n",
      "Requirement already satisfied: requests<3.0.0,>=2.31.0 in /usr/local/lib/python3.10/dist-packages (from litellm) (2.32.3)\n",
      "Requirement already satisfied: tiktoken>=0.7.0 in /usr/local/lib/python3.10/dist-packages (from litellm) (0.8.0)\n",
      "Requirement already satisfied: tokenizers in /usr/local/lib/python3.10/dist-packages (from litellm) (0.19.1)\n",
      "Requirement already satisfied: zipp>=3.20 in /usr/local/lib/python3.10/dist-packages (from importlib-metadata>=6.8.0->litellm) (3.20.2)\n",
      "Requirement already satisfied: MarkupSafe>=2.0 in /usr/local/lib/python3.10/dist-packages (from jinja2<4.0.0,>=3.1.2->litellm) (2.1.5)\n",
      "Requirement already satisfied: attrs>=22.2.0 in /usr/local/lib/python3.10/dist-packages (from jsonschema<5.0.0,>=4.22.0->litellm) (24.2.0)\n",
      "Requirement already satisfied: jsonschema-specifications>=2023.03.6 in /usr/local/lib/python3.10/dist-packages (from jsonschema<5.0.0,>=4.22.0->litellm) (2024.10.1)\n",
      "Requirement already satisfied: referencing>=0.28.4 in /usr/local/lib/python3.10/dist-packages (from jsonschema<5.0.0,>=4.22.0->litellm) (0.35.1)\n",
      "Requirement already satisfied: rpds-py>=0.7.1 in /usr/local/lib/python3.10/dist-packages (from jsonschema<5.0.0,>=4.22.0->litellm) (0.20.0)\n",
      "Requirement already satisfied: anyio<5,>=3.5.0 in /usr/local/lib/python3.10/dist-packages (from openai>=1.54.0->litellm) (3.7.1)\n",
      "Requirement already satisfied: distro<2,>=1.7.0 in /usr/local/lib/python3.10/dist-packages (from openai>=1.54.0->litellm) (1.9.0)\n",
      "Requirement already satisfied: httpx<1,>=0.23.0 in /usr/local/lib/python3.10/dist-packages (from openai>=1.54.0->litellm) (0.27.2)\n",
      "Requirement already satisfied: jiter<1,>=0.4.0 in /usr/local/lib/python3.10/dist-packages (from openai>=1.54.0->litellm) (0.6.1)\n",
      "Requirement already satisfied: sniffio in /usr/local/lib/python3.10/dist-packages (from openai>=1.54.0->litellm) (1.3.1)\n",
      "Requirement already satisfied: tqdm>4 in /usr/local/lib/python3.10/dist-packages (from openai>=1.54.0->litellm) (4.66.6)\n",
      "Requirement already satisfied: typing-extensions<5,>=4.11 in /usr/local/lib/python3.10/dist-packages (from openai>=1.54.0->litellm) (4.12.2)\n",
      "Requirement already satisfied: annotated-types>=0.6.0 in /usr/local/lib/python3.10/dist-packages (from pydantic<3.0.0,>=2.0.0->litellm) (0.7.0)\n",
      "Requirement already satisfied: pydantic-core==2.23.4 in /usr/local/lib/python3.10/dist-packages (from pydantic<3.0.0,>=2.0.0->litellm) (2.23.4)\n",
      "Requirement already satisfied: charset-normalizer<4,>=2 in /usr/local/lib/python3.10/dist-packages (from requests<3.0.0,>=2.31.0->litellm) (3.4.0)\n",
      "Requirement already satisfied: idna<4,>=2.5 in /usr/local/lib/python3.10/dist-packages (from requests<3.0.0,>=2.31.0->litellm) (3.10)\n",
      "Requirement already satisfied: urllib3<3,>=1.21.1 in /usr/local/lib/python3.10/dist-packages (from requests<3.0.0,>=2.31.0->litellm) (2.2.3)\n",
      "Requirement already satisfied: certifi>=2017.4.17 in /usr/local/lib/python3.10/dist-packages (from requests<3.0.0,>=2.31.0->litellm) (2024.8.30)\n",
      "Requirement already satisfied: regex>=2022.1.18 in /usr/local/lib/python3.10/dist-packages (from tiktoken>=0.7.0->litellm) (2024.9.11)\n",
      "Requirement already satisfied: aiohappyeyeballs>=2.3.0 in /usr/local/lib/python3.10/dist-packages (from aiohttp->litellm) (2.4.3)\n",
      "Requirement already satisfied: aiosignal>=1.1.2 in /usr/local/lib/python3.10/dist-packages (from aiohttp->litellm) (1.3.1)\n",
      "Requirement already satisfied: frozenlist>=1.1.1 in /usr/local/lib/python3.10/dist-packages (from aiohttp->litellm) (1.5.0)\n",
      "Requirement already satisfied: multidict<7.0,>=4.5 in /usr/local/lib/python3.10/dist-packages (from aiohttp->litellm) (6.1.0)\n",
      "Requirement already satisfied: yarl<2.0,>=1.12.0 in /usr/local/lib/python3.10/dist-packages (from aiohttp->litellm) (1.17.0)\n",
      "Requirement already satisfied: async-timeout<5.0,>=4.0 in /usr/local/lib/python3.10/dist-packages (from aiohttp->litellm) (4.0.3)\n",
      "Requirement already satisfied: huggingface-hub<1.0,>=0.16.4 in /usr/local/lib/python3.10/dist-packages (from tokenizers->litellm) (0.26.2)\n",
      "Requirement already satisfied: exceptiongroup in /usr/local/lib/python3.10/dist-packages (from anyio<5,>=3.5.0->openai>=1.54.0->litellm) (1.2.2)\n",
      "Requirement already satisfied: httpcore==1.* in /usr/local/lib/python3.10/dist-packages (from httpx<1,>=0.23.0->openai>=1.54.0->litellm) (1.0.6)\n",
      "Requirement already satisfied: h11<0.15,>=0.13 in /usr/local/lib/python3.10/dist-packages (from httpcore==1.*->httpx<1,>=0.23.0->openai>=1.54.0->litellm) (0.14.0)\n",
      "Requirement already satisfied: filelock in /usr/local/lib/python3.10/dist-packages (from huggingface-hub<1.0,>=0.16.4->tokenizers->litellm) (3.16.1)\n",
      "Requirement already satisfied: fsspec>=2023.5.0 in /usr/local/lib/python3.10/dist-packages (from huggingface-hub<1.0,>=0.16.4->tokenizers->litellm) (2024.10.0)\n",
      "Requirement already satisfied: packaging>=20.9 in /usr/local/lib/python3.10/dist-packages (from huggingface-hub<1.0,>=0.16.4->tokenizers->litellm) (24.1)\n",
      "Requirement already satisfied: pyyaml>=5.1 in /usr/local/lib/python3.10/dist-packages (from huggingface-hub<1.0,>=0.16.4->tokenizers->litellm) (6.0.2)\n",
      "Requirement already satisfied: propcache>=0.2.0 in /usr/local/lib/python3.10/dist-packages (from yarl<2.0,>=1.12.0->aiohttp->litellm) (0.2.0)\n"
     ]
    }
   ],
   "source": [
    "!pip install litellm"
   ]
  },
  {
   "cell_type": "code",
   "execution_count": null,
   "id": "6e158628",
   "metadata": {
    "id": "79n11oyjuRsb"
   },
   "outputs": [],
   "source": [
    "from litellm import completion"
   ]
  },
  {
   "cell_type": "code",
   "execution_count": null,
   "id": "2a43707f",
   "metadata": {
    "id": "S4wS1QuxuWfw"
   },
   "outputs": [],
   "source": [
    "from google.colab import userdata\n",
    "GROQ_API_KEY = userdata.get('GROQ_API_KEY')"
   ]
  },
  {
   "cell_type": "code",
   "execution_count": null,
   "id": "655b4910",
   "metadata": {
    "id": "dNA65JVTrgIo"
   },
   "outputs": [],
   "source": [
    "# Função para chamar a API com o histórico de mensagens\n",
    "def call_groq_api(messages, model=\"groq/llama-3.3-70b-versatile\"):\n",
    "    response = completion(\n",
    "        model=model,\n",
    "        messages=messages,\n",
    "        api_key=GROQ_API_KEY,\n",
    "    )\n",
    "    return response.choices[0].message.content\n"
   ]
  },
  {
   "cell_type": "code",
   "execution_count": null,
   "id": "6112860d",
   "metadata": {
    "id": "wzmOWz8ytjKr"
   },
   "outputs": [],
   "source": [
    "# Função para iniciar o chat, mantendo o histórico\n",
    "def chat():\n",
    "    print(\"Iniciando chat com o modelo. Digite 'sair' para encerrar.\")\n",
    "\n",
    "\n",
    "    # Histórico de mensagens\n",
    "    messages = [{\"role\": \"system\", \"content\": \"\"\"\n",
    "    Você é o chatbot da Pizza Turtle, uma pizzaria com um ambiente acolhedor, divertido e familiar.\n",
    "    Sua personalidade deve ser amigável, leve e entusiasmada, com uma linguagem descontraída.\n",
    "    Sempre que possível, use expressões simpáticas e emojis de tartaruga 🐢 e pizza 🍕 de forma moderada para reforçar a identidade da marca.\n",
    "    Você deve conhecer o cardápio, incluindo os ingredientes, tamanhos, opções de personalização, e promoções atuais.\n",
    "    Sugira sabores populares e acompanhamentos, especialmente para clientes indecisos, e sempre ofereça opções de personalização, explicando com clareza as escolhas de massa, tamanho e ingredientes extras. Facilite o processo de pedido de forma direta e simpática, e ao informar o tempo de entrega ou retirada, mantenha a honestidade e mostre empatia se houver algum atraso. Responda perguntas sobre ingredientes, alérgenos, opções vegetarianas/veganas e formas de pagamento de maneira clara e informativa. Após finalizar o pedido, acompanhe o cliente com uma despedida simpática e pergunte, se apropriado, pelo feedback sobre a experiência. Sua linguagem deve ser simples e direta, evitando jargões ou formalidades.\n",
    "    \"\"\"}]\n",
    "\n",
    "\n",
    "    while True:\n",
    "        user_message = input(\"Você: \")\n",
    "        if user_message.lower() == \"sair\":\n",
    "            print(\"Encerrando chat. Até a próxima!\")\n",
    "            break\n",
    "\n",
    "\n",
    "        # Adicionar a mensagem do usuário ao histórico\n",
    "        messages.append({\"role\": \"user\", \"content\": user_message})\n",
    "\n",
    "\n",
    "        # Chamar a API com o histórico completo\n",
    "        model_response = call_groq_api(messages)\n",
    "\n",
    "\n",
    "        # Adicionar a resposta do modelo ao histórico\n",
    "        messages.append({\"role\": \"assistant\", \"content\": model_response})\n",
    "\n",
    "\n",
    "        # Exibir a resposta do assistente\n",
    "        print(f\"Assistente: {model_response}\")\n"
   ]
  },
  {
   "cell_type": "code",
   "execution_count": null,
   "id": "2b4bc3d0",
   "metadata": {
    "id": "dnIBzYFhuNaL"
   },
   "outputs": [],
   "source": [
    "#chat()"
   ]
  }
 ],
 "metadata": {},
 "nbformat": 4,
 "nbformat_minor": 5
}