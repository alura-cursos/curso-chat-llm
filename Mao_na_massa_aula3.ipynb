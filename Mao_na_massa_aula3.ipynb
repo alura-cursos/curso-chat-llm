{
 "cells": [
  {
   "cell_type": "markdown",
   "id": "a7a54505",
   "metadata": {
    "id": "bXMQlbOMuKkV"
   },
   "source": [
    "# Aula 1"
   ]
  },
  {
   "cell_type": "code",
   "execution_count": null,
   "id": "d386f7d3",
   "metadata": {
    "colab": {
     "base_uri": "https://localhost:8080/"
    },
    "id": "_d6OnajWy4Yc",
    "outputId": "21c39213-2db2-49a3-993b-61b3037d8e69"
   },
   "outputs": [
    {
     "name": "stdout",
     "output_type": "stream",
     "text": [
      "Requirement already satisfied: litellm in /usr/local/lib/python3.10/dist-packages (1.52.3)\n",
      "Requirement already satisfied: aiohttp in /usr/local/lib/python3.10/dist-packages (from litellm) (3.10.10)\n",
      "Requirement already satisfied: click in /usr/local/lib/python3.10/dist-packages (from litellm) (8.1.7)\n",
      "Requirement already satisfied: importlib-metadata>=6.8.0 in /usr/local/lib/python3.10/dist-packages (from litellm) (8.5.0)\n",
      "Requirement already satisfied: jinja2<4.0.0,>=3.1.2 in /usr/local/lib/python3.10/dist-packages (from litellm) (3.1.4)\n",
      "Requirement already satisfied: jsonschema<5.0.0,>=4.22.0 in /usr/local/lib/python3.10/dist-packages (from litellm) (4.23.0)\n",
      "Requirement already satisfied: openai>=1.54.0 in /usr/local/lib/python3.10/dist-packages (from litellm) (1.54.3)\n",
      "Requirement already satisfied: pydantic<3.0.0,>=2.0.0 in /usr/local/lib/python3.10/dist-packages (from litellm) (2.9.2)\n",
      "Requirement already satisfied: python-dotenv>=0.2.0 in /usr/local/lib/python3.10/dist-packages (from litellm) (1.0.1)\n",
      "Requirement already satisfied: requests<3.0.0,>=2.31.0 in /usr/local/lib/python3.10/dist-packages (from litellm) (2.32.3)\n",
      "Requirement already satisfied: tiktoken>=0.7.0 in /usr/local/lib/python3.10/dist-packages (from litellm) (0.8.0)\n",
      "Requirement already satisfied: tokenizers in /usr/local/lib/python3.10/dist-packages (from litellm) (0.19.1)\n",
      "Requirement already satisfied: zipp>=3.20 in /usr/local/lib/python3.10/dist-packages (from importlib-metadata>=6.8.0->litellm) (3.20.2)\n",
      "Requirement already satisfied: MarkupSafe>=2.0 in /usr/local/lib/python3.10/dist-packages (from jinja2<4.0.0,>=3.1.2->litellm) (2.1.5)\n",
      "Requirement already satisfied: attrs>=22.2.0 in /usr/local/lib/python3.10/dist-packages (from jsonschema<5.0.0,>=4.22.0->litellm) (24.2.0)\n",
      "Requirement already satisfied: jsonschema-specifications>=2023.03.6 in /usr/local/lib/python3.10/dist-packages (from jsonschema<5.0.0,>=4.22.0->litellm) (2024.10.1)\n",
      "Requirement already satisfied: referencing>=0.28.4 in /usr/local/lib/python3.10/dist-packages (from jsonschema<5.0.0,>=4.22.0->litellm) (0.35.1)\n",
      "Requirement already satisfied: rpds-py>=0.7.1 in /usr/local/lib/python3.10/dist-packages (from jsonschema<5.0.0,>=4.22.0->litellm) (0.20.0)\n",
      "Requirement already satisfied: anyio<5,>=3.5.0 in /usr/local/lib/python3.10/dist-packages (from openai>=1.54.0->litellm) (3.7.1)\n",
      "Requirement already satisfied: distro<2,>=1.7.0 in /usr/local/lib/python3.10/dist-packages (from openai>=1.54.0->litellm) (1.9.0)\n",
      "Requirement already satisfied: httpx<1,>=0.23.0 in /usr/local/lib/python3.10/dist-packages (from openai>=1.54.0->litellm) (0.27.2)\n",
      "Requirement already satisfied: jiter<1,>=0.4.0 in /usr/local/lib/python3.10/dist-packages (from openai>=1.54.0->litellm) (0.6.1)\n",
      "Requirement already satisfied: sniffio in /usr/local/lib/python3.10/dist-packages (from openai>=1.54.0->litellm) (1.3.1)\n",
      "Requirement already satisfied: tqdm>4 in /usr/local/lib/python3.10/dist-packages (from openai>=1.54.0->litellm) (4.66.6)\n",
      "Requirement already satisfied: typing-extensions<5,>=4.11 in /usr/local/lib/python3.10/dist-packages (from openai>=1.54.0->litellm) (4.12.2)\n",
      "Requirement already satisfied: annotated-types>=0.6.0 in /usr/local/lib/python3.10/dist-packages (from pydantic<3.0.0,>=2.0.0->litellm) (0.7.0)\n",
      "Requirement already satisfied: pydantic-core==2.23.4 in /usr/local/lib/python3.10/dist-packages (from pydantic<3.0.0,>=2.0.0->litellm) (2.23.4)\n",
      "Requirement already satisfied: charset-normalizer<4,>=2 in /usr/local/lib/python3.10/dist-packages (from requests<3.0.0,>=2.31.0->litellm) (3.4.0)\n",
      "Requirement already satisfied: idna<4,>=2.5 in /usr/local/lib/python3.10/dist-packages (from requests<3.0.0,>=2.31.0->litellm) (3.10)\n",
      "Requirement already satisfied: urllib3<3,>=1.21.1 in /usr/local/lib/python3.10/dist-packages (from requests<3.0.0,>=2.31.0->litellm) (2.2.3)\n",
      "Requirement already satisfied: certifi>=2017.4.17 in /usr/local/lib/python3.10/dist-packages (from requests<3.0.0,>=2.31.0->litellm) (2024.8.30)\n",
      "Requirement already satisfied: regex>=2022.1.18 in /usr/local/lib/python3.10/dist-packages (from tiktoken>=0.7.0->litellm) (2024.9.11)\n",
      "Requirement already satisfied: aiohappyeyeballs>=2.3.0 in /usr/local/lib/python3.10/dist-packages (from aiohttp->litellm) (2.4.3)\n",
      "Requirement already satisfied: aiosignal>=1.1.2 in /usr/local/lib/python3.10/dist-packages (from aiohttp->litellm) (1.3.1)\n",
      "Requirement already satisfied: frozenlist>=1.1.1 in /usr/local/lib/python3.10/dist-packages (from aiohttp->litellm) (1.5.0)\n",
      "Requirement already satisfied: multidict<7.0,>=4.5 in /usr/local/lib/python3.10/dist-packages (from aiohttp->litellm) (6.1.0)\n",
      "Requirement already satisfied: yarl<2.0,>=1.12.0 in /usr/local/lib/python3.10/dist-packages (from aiohttp->litellm) (1.17.0)\n",
      "Requirement already satisfied: async-timeout<5.0,>=4.0 in /usr/local/lib/python3.10/dist-packages (from aiohttp->litellm) (4.0.3)\n",
      "Requirement already satisfied: huggingface-hub<1.0,>=0.16.4 in /usr/local/lib/python3.10/dist-packages (from tokenizers->litellm) (0.26.2)\n",
      "Requirement already satisfied: exceptiongroup in /usr/local/lib/python3.10/dist-packages (from anyio<5,>=3.5.0->openai>=1.54.0->litellm) (1.2.2)\n",
      "Requirement already satisfied: httpcore==1.* in /usr/local/lib/python3.10/dist-packages (from httpx<1,>=0.23.0->openai>=1.54.0->litellm) (1.0.6)\n",
      "Requirement already satisfied: h11<0.15,>=0.13 in /usr/local/lib/python3.10/dist-packages (from httpcore==1.*->httpx<1,>=0.23.0->openai>=1.54.0->litellm) (0.14.0)\n",
      "Requirement already satisfied: filelock in /usr/local/lib/python3.10/dist-packages (from huggingface-hub<1.0,>=0.16.4->tokenizers->litellm) (3.16.1)\n",
      "Requirement already satisfied: fsspec>=2023.5.0 in /usr/local/lib/python3.10/dist-packages (from huggingface-hub<1.0,>=0.16.4->tokenizers->litellm) (2024.10.0)\n",
      "Requirement already satisfied: packaging>=20.9 in /usr/local/lib/python3.10/dist-packages (from huggingface-hub<1.0,>=0.16.4->tokenizers->litellm) (24.1)\n",
      "Requirement already satisfied: pyyaml>=5.1 in /usr/local/lib/python3.10/dist-packages (from huggingface-hub<1.0,>=0.16.4->tokenizers->litellm) (6.0.2)\n",
      "Requirement already satisfied: propcache>=0.2.0 in /usr/local/lib/python3.10/dist-packages (from yarl<2.0,>=1.12.0->aiohttp->litellm) (0.2.0)\n"
     ]
    }
   ],
   "source": [
    "!pip install litellm"
   ]
  },
  {
   "cell_type": "code",
   "execution_count": null,
   "id": "5ce0c046",
   "metadata": {
    "id": "79n11oyjuRsb"
   },
   "outputs": [],
   "source": [
    "from litellm import completion"
   ]
  },
  {
   "cell_type": "code",
   "execution_count": null,
   "id": "c75e0c78",
   "metadata": {
    "id": "S4wS1QuxuWfw"
   },
   "outputs": [],
   "source": [
    "from google.colab import userdata\n",
    "GROQ_API_KEY = userdata.get('GROQ_API_KEY')"
   ]
  },
  {
   "cell_type": "code",
   "execution_count": null,
   "id": "78be535d",
   "metadata": {
    "id": "dNA65JVTrgIo"
   },
   "outputs": [],
   "source": [
    "# Função para chamar a API com o histórico de mensagens\n",
    "def call_groq_api(messages, model=\"groq/llama-3.3-70b-versatile\"):\n",
    "    response = completion(\n",
    "        model=model,\n",
    "        messages=messages,\n",
    "        api_key=GROQ_API_KEY,\n",
    "    )\n",
    "    return response.choices[0].message.content\n"
   ]
  },
  {
   "cell_type": "code",
   "execution_count": null,
   "id": "4bd90b39",
   "metadata": {
    "id": "wzmOWz8ytjKr"
   },
   "outputs": [],
   "source": [
    "# Função para iniciar o chat, mantendo o histórico\n",
    "def chat():\n",
    "    print(\"Iniciando chat com o modelo. Digite 'sair' para encerrar.\")\n",
    "\n",
    "\n",
    "    # Histórico de mensagens\n",
    "    messages = [{\"role\": \"system\", \"content\": \"\"\"\n",
    "    Você é o chatbot da Pizza Turtle, uma pizzaria com um ambiente acolhedor, divertido e familiar.\n",
    "    Sua personalidade deve ser amigável, leve e entusiasmada, com uma linguagem descontraída.\n",
    "    Sempre que possível, use expressões simpáticas e emojis de tartaruga 🐢 e pizza 🍕 de forma moderada para reforçar a identidade da marca.\n",
    "    Você deve conhecer o cardápio, incluindo os ingredientes, tamanhos, opções de personalização, e promoções atuais.\n",
    "    Sugira sabores populares e acompanhamentos, especialmente para clientes indecisos, e sempre ofereça opções de personalização, explicando com clareza as escolhas de massa, tamanho e ingredientes extras. Facilite o processo de pedido de forma direta e simpática, e ao informar o tempo de entrega ou retirada, mantenha a honestidade e mostre empatia se houver algum atraso. Responda perguntas sobre ingredientes, alérgenos, opções vegetarianas/veganas e formas de pagamento de maneira clara e informativa. Após finalizar o pedido, acompanhe o cliente com uma despedida simpática e pergunte, se apropriado, pelo feedback sobre a experiência. Sua linguagem deve ser simples e direta, evitando jargões ou formalidades.\n",
    "    \"\"\"}]\n",
    "\n",
    "\n",
    "    while True:\n",
    "        user_message = input(\"Você: \")\n",
    "        if user_message.lower() == \"sair\":\n",
    "            print(\"Encerrando chat. Até a próxima!\")\n",
    "            break\n",
    "\n",
    "\n",
    "        # Adicionar a mensagem do usuário ao histórico\n",
    "        messages.append({\"role\": \"user\", \"content\": user_message})\n",
    "\n",
    "\n",
    "        # Chamar a API com o histórico completo\n",
    "        model_response = call_groq_api(messages)\n",
    "\n",
    "\n",
    "        # Adicionar a resposta do modelo ao histórico\n",
    "        messages.append({\"role\": \"assistant\", \"content\": model_response})\n",
    "\n",
    "\n",
    "        # Exibir a resposta do assistente\n",
    "        print(f\"Assistente: {model_response}\")\n"
   ]
  },
  {
   "cell_type": "code",
   "execution_count": null,
   "id": "5e251bd7",
   "metadata": {
    "id": "dnIBzYFhuNaL"
   },
   "outputs": [],
   "source": [
    "#chat()"
   ]
  },
  {
   "cell_type": "markdown",
   "id": "611fd5c2",
   "metadata": {
    "id": "H3kb_NHJBNMj"
   },
   "source": [
    "# Aula 2"
   ]
  },
  {
   "cell_type": "code",
   "execution_count": null,
   "id": "1f1e5d52",
   "metadata": {
    "id": "3tSxy8TLuOU_"
   },
   "outputs": [],
   "source": [
    "import requests\n",
    "import json\n",
    "\n",
    "def verificar_rua_cep(cep):\n",
    "    # Lista de ruas atendidas\n",
    "    ruas_atendidas = [\"Rua Vergueiro\", \"Avenida Paulista\", \"Rua Augusta\"]\n",
    "\n",
    "    # URL da API ViaCEP para consulta de endereço\n",
    "    url = f\"https://viacep.com.br/ws/{cep}/json/\"\n",
    "\n",
    "    try:\n",
    "        response = requests.get(url)\n",
    "        response.raise_for_status()\n",
    "        endereco = response.json()\n",
    "\n",
    "        # Verifica se o CEP é válido e possui logradouro\n",
    "        if 'logradouro' in endereco:\n",
    "            logradouro = endereco['logradouro']\n",
    "            if logradouro in ruas_atendidas:\n",
    "                return f\"A rua '{logradouro}' está na lista de ruas atendidas.\"\n",
    "            else:\n",
    "                return f\"A rua '{logradouro}' NÃO está na lista de ruas atendidas.\"\n",
    "        else:\n",
    "            return \"CEP inválido ou sem logradouro associado.\"\n",
    "\n",
    "    except requests.RequestException as e:\n",
    "        return f\"Erro ao consultar o CEP: {e}\"\n",
    "\n",
    "\n"
   ]
  },
  {
   "cell_type": "code",
   "execution_count": null,
   "id": "19f018bf",
   "metadata": {
    "colab": {
     "base_uri": "https://localhost:8080/"
    },
    "id": "QyCaPZzvBZF3",
    "outputId": "a3afd892-d486-4b0e-e059-8656bbd2c951"
   },
   "outputs": [
    {
     "name": "stdout",
     "output_type": "stream",
     "text": [
      "A rua 'Rua Gonçalo Afonso' NÃO está na lista de ruas atendidas.\n"
     ]
    }
   ],
   "source": [
    "# Exemplo de uso\n",
    "cep = \"01311000\"  # Insira o CEP desejado - Avenida Paulista\n",
    "cep = \"05436100\" # Beco do Batman\n",
    "print(verificar_rua_cep(cep))"
   ]
  },
  {
   "cell_type": "code",
   "execution_count": null,
   "id": "7bb7d5a6",
   "metadata": {
    "id": "YrROHSyeBaB-"
   },
   "outputs": [],
   "source": [
    "tools = [\n",
    "        {\n",
    "            \"type\": \"function\",\n",
    "            \"function\": {\n",
    "                \"name\": \"verificar_rua_cep\",\n",
    "                \"description\": \"Retorna se o CEP corresponde a uma rua atendida\",\n",
    "                \"parameters\": {\n",
    "                    \"type\": \"object\",\n",
    "                    \"properties\": {\n",
    "                        \"cep\": {\n",
    "                            \"type\": \"string\",\n",
    "                            \"description\": \"CEP do endereço\",\n",
    "                        },\n",
    "                    },\n",
    "                    \"required\": [\"cep\"],\n",
    "                },\n",
    "            }\n",
    "\n",
    "        }\n",
    "]"
   ]
  },
  {
   "cell_type": "code",
   "execution_count": null,
   "id": "219ebea6",
   "metadata": {
    "id": "GVuWww0fE3D_"
   },
   "outputs": [],
   "source": [
    "# Função para chamar a API com o histórico de mensagens\n",
    "def call_groq_api(messages, model=\"groq/llama-3.3-70b-versatile\"):\n",
    "    global tools\n",
    "    response = completion(\n",
    "        model=model,\n",
    "        messages=messages,\n",
    "        tools=tools,\n",
    "        tool_choice=\"auto\",\n",
    "        api_key=GROQ_API_KEY,\n",
    "    )\n",
    "    resposta_texto = response.choices[0].message\n",
    "    chamada_ferramentas = resposta_texto.tool_calls\n",
    "    if chamada_ferramentas:\n",
    "      available_functions = {\n",
    "        \"verificar_rua_cep\": verificar_rua_cep,\n",
    "      }\n",
    "      for tool_call in chamada_ferramentas:\n",
    "        function_name = tool_call.function.name\n",
    "        function_to_call = available_functions[function_name]\n",
    "        function_args = json.loads(tool_call.function.arguments)\n",
    "        function_response = function_to_call(\n",
    "            cep=function_args.get(\"cep\"),\n",
    "        )\n",
    "        return function_response\n",
    "\n",
    "    else:\n",
    "      return resposta_texto.content\n"
   ]
  },
  {
   "cell_type": "code",
   "execution_count": null,
   "id": "c59985fc",
   "metadata": {
    "id": "IraQQmqGFGce"
   },
   "outputs": [],
   "source": [
    "#chat()"
   ]
  },
  {
   "cell_type": "markdown",
   "id": "fcd13235",
   "metadata": {
    "id": "qbIJ_i5s8QDY"
   },
   "source": [
    "# Aula 3"
   ]
  },
  {
   "cell_type": "code",
   "execution_count": null,
   "id": "f1accc41",
   "metadata": {
    "id": "G7SpBPcMFJXO"
   },
   "outputs": [],
   "source": [
    "data = [\n",
    "    {\n",
    "        \"id\": \"pizza1\",\n",
    "        \"text\": \"Pizza Margherita com molho de tomate fresco, queijo mussarela e folhas de manjericão. Simplicidade e frescor se destacam neste sabor clássico italiano.\"\n",
    "    },\n",
    "    {\n",
    "        \"id\": \"pizza2\",\n",
    "        \"text\": \"Pizza Pepperoni coberta com molho de tomate, mussarela e generosas fatias de pepperoni levemente picantes. Um dos sabores mais populares e irresistíveis.\"\n",
    "    },\n",
    "    {\n",
    "        \"id\": \"pizza3\",\n",
    "        \"text\": \"Pizza Quatro Queijos, combinação de mussarela, gorgonzola, parmesão e provolone sobre uma base de molho branco. Um sabor intenso e cremoso para os amantes de queijo.\"\n",
    "    },\n",
    "    {\n",
    "        \"id\": \"pizza4\",\n",
    "        \"text\": \"Pizza Portuguesa com presunto, ovos, cebola, azeitonas e mussarela. Uma combinação rica que agrada a quem busca um sabor mais completo e tradicional.\"\n",
    "    },\n",
    "    {\n",
    "        \"id\": \"pizza5\",\n",
    "        \"text\": \"Pizza Calabresa com rodelas de linguiça calabresa, cebola e queijo mussarela. Sabor marcante e levemente picante, ideal para os fãs de sabores fortes.\"\n",
    "    },\n",
    "    {\n",
    "        \"id\": \"pizza6\",\n",
    "        \"text\": \"Pizza de Frango com Catupiry, feita com tiras de frango desfiado e catupiry sobre uma base de molho de tomate e mussarela. Uma combinação cremosa e suave.\"\n",
    "    },\n",
    "    {\n",
    "        \"id\": \"pizza7\",\n",
    "        \"text\": \"Pizza Vegetariana com uma variedade de vegetais frescos, incluindo tomate, pimentão, cebola, azeitonas e cogumelos, sobre uma base de molho de tomate e mussarela. Uma opção leve e saudável.\"\n",
    "    },\n",
    "    {\n",
    "        \"id\": \"pizza8\",\n",
    "        \"text\": \"Pizza de Atum, com lascas de atum, cebola e azeitonas, acompanhados de queijo mussarela. Um sabor delicado e característico, ideal para quem gosta de frutos do mar.\"\n",
    "    },\n",
    "    {\n",
    "        \"id\": \"pizza9\",\n",
    "        \"text\": \"Pizza de Bacon e Cheddar, feita com pedaços de bacon crocante, queijo cheddar derretido e mussarela. Uma combinação forte e saborosa para os fãs de sabores intensos.\"\n",
    "    },\n",
    "    {\n",
    "        \"id\": \"pizza10\",\n",
    "        \"text\": \"Pizza de Chocolate com cobertura de chocolate ao leite derretido e granulados, ideal para os amantes de sobremesa. Um toque doce para finalizar a refeição.\"\n",
    "    },\n",
    "]\n"
   ]
  },
  {
   "cell_type": "code",
   "execution_count": null,
   "id": "fa66886a",
   "metadata": {
    "id": "O44UpUT_8s21"
   },
   "outputs": [],
   "source": [
    "PINECONE_API = userdata.get('PINECONE_API')"
   ]
  },
  {
   "cell_type": "code",
   "execution_count": null,
   "id": "01c086a0",
   "metadata": {
    "colab": {
     "base_uri": "https://localhost:8080/"
    },
    "id": "Q9ZH68aQ-rQR",
    "outputId": "a3c2a8e8-70d2-4ea2-c8e5-a1a4a3fb860f"
   },
   "outputs": [
    {
     "name": "stdout",
     "output_type": "stream",
     "text": [
      "Requirement already satisfied: pinecone in /usr/local/lib/python3.10/dist-packages (5.3.1)\n",
      "Requirement already satisfied: certifi>=2019.11.17 in /usr/local/lib/python3.10/dist-packages (from pinecone) (2024.8.30)\n",
      "Requirement already satisfied: pinecone-plugin-inference<2.0.0,>=1.1.0 in /usr/local/lib/python3.10/dist-packages (from pinecone) (1.1.0)\n",
      "Requirement already satisfied: pinecone-plugin-interface<0.0.8,>=0.0.7 in /usr/local/lib/python3.10/dist-packages (from pinecone) (0.0.7)\n",
      "Requirement already satisfied: python-dateutil>=2.5.3 in /usr/local/lib/python3.10/dist-packages (from pinecone) (2.8.2)\n",
      "Requirement already satisfied: tqdm>=4.64.1 in /usr/local/lib/python3.10/dist-packages (from pinecone) (4.66.6)\n",
      "Requirement already satisfied: typing-extensions>=3.7.4 in /usr/local/lib/python3.10/dist-packages (from pinecone) (4.12.2)\n",
      "Requirement already satisfied: urllib3>=1.26.0 in /usr/local/lib/python3.10/dist-packages (from pinecone) (2.2.3)\n",
      "Requirement already satisfied: six>=1.5 in /usr/local/lib/python3.10/dist-packages (from python-dateutil>=2.5.3->pinecone) (1.16.0)\n"
     ]
    }
   ],
   "source": [
    "!pip install pinecone"
   ]
  },
  {
   "cell_type": "code",
   "execution_count": null,
   "id": "04c8769a",
   "metadata": {
    "id": "agBL3bPb8-Rz"
   },
   "outputs": [],
   "source": [
    "from pinecone import Pinecone\n",
    "\n",
    "pc = Pinecone(api_key=PINECONE_API)"
   ]
  },
  {
   "cell_type": "markdown",
   "id": "c45ced9f",
   "metadata": {
    "id": "ZVBymKla_kTd"
   },
   "source": [
    "Você pode criar um index na plataforma da Pinecone clicando em indexes no menu lateral esquerdo ou diretamente através de código:\n",
    "\n",
    "![image.png](data:image/png;base64,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)"
   ]
  },
  {
   "cell_type": "code",
   "execution_count": null,
   "id": "026ce8fb",
   "metadata": {
    "id": "M3gCIQyA_glS"
   },
   "outputs": [],
   "source": [
    "#Código para criar um index\n",
    "from pinecone import ServerlessSpec\n",
    "pc.create_index(\n",
    "  name=\"pizza\",\n",
    "  dimension=1024,\n",
    "  metric=\"cosine\",\n",
    "  spec=ServerlessSpec(\n",
    "    cloud=\"aws\",\n",
    "    region=\"us-east-1\"\n",
    "  ),\n",
    "  deletion_protection=\"disabled\"\n",
    ")"
   ]
  },
  {
   "cell_type": "code",
   "execution_count": null,
   "id": "2f3788c7",
   "metadata": {
    "id": "6niVQu5w-p0Z"
   },
   "outputs": [],
   "source": [
    "index = pc.Index(\"pizza\")"
   ]
  },
  {
   "cell_type": "code",
   "execution_count": null,
   "id": "d1823f34",
   "metadata": {
    "id": "GVCAoH6y-ykv"
   },
   "outputs": [],
   "source": [
    "embeddings = pc.inference.embed(\n",
    "    \"multilingual-e5-large\",\n",
    "    inputs=[d['text'] for d in data],\n",
    "    parameters={\n",
    "        \"input_type\": \"passage\"\n",
    "    }\n",
    ")"
   ]
  },
  {
   "cell_type": "code",
   "execution_count": null,
   "id": "16fede18",
   "metadata": {
    "colab": {
     "base_uri": "https://localhost:8080/"
    },
    "id": "gEcGLzxJCdG-",
    "outputId": "3036b929-b208-4e0c-e3a1-791e526a53e4"
   },
   "outputs": [
    {
     "data": {
      "text/plain": [
       "{'upserted_count': 10}"
      ]
     },
     "execution_count": 20,
     "metadata": {},
     "output_type": "execute_result"
    }
   ],
   "source": [
    "vectors = []\n",
    "for d, e in zip(data, embeddings):\n",
    "    vectors.append({\n",
    "        \"id\": d['id'],\n",
    "        \"values\": e['values'],\n",
    "        \"metadata\": {'text': d['text']}\n",
    "    })\n",
    "\n",
    "index.upsert(\n",
    "    vectors=vectors,\n",
    "    namespace=\"ns1\"\n",
    ")"
   ]
  },
  {
   "cell_type": "code",
   "execution_count": null,
   "id": "40314c4e",
   "metadata": {
    "id": "GEKC7VlKCfAr"
   },
   "outputs": [],
   "source": [
    "query = \"quero uma pizza que tenha presunto e ovos\""
   ]
  },
  {
   "cell_type": "code",
   "execution_count": null,
   "id": "b89733fa",
   "metadata": {
    "id": "9hS7xHGmCuwh"
   },
   "outputs": [],
   "source": [
    "x = pc.inference.embed(\n",
    "    model=\"multilingual-e5-large\",\n",
    "    inputs=[query],\n",
    "    parameters={\n",
    "        \"input_type\": \"query\"\n",
    "    }\n",
    ")"
   ]
  },
  {
   "cell_type": "code",
   "execution_count": null,
   "id": "3cfebf3c",
   "metadata": {
    "id": "1i7IQGfsCypf"
   },
   "outputs": [],
   "source": [
    "results = index.query(\n",
    "    namespace=\"ns1\",\n",
    "    vector=x[0].values,\n",
    "    top_k=1,\n",
    "    include_values=False,\n",
    "    include_metadata=True\n",
    ")"
   ]
  },
  {
   "cell_type": "code",
   "execution_count": null,
   "id": "b32b28f1",
   "metadata": {
    "colab": {
     "base_uri": "https://localhost:8080/"
    },
    "id": "TG_XZDG7CzKq",
    "outputId": "4fdc87e0-3fa4-44e5-8fae-fb6656f46398"
   },
   "outputs": [
    {
     "data": {
      "text/plain": [
       "{'matches': [{'id': 'pizza4',\n",
       "              'metadata': {'text': 'Pizza Portuguesa com presunto, ovos, '\n",
       "                                   'cebola, azeitonas e mussarela. Uma '\n",
       "                                   'combinação rica que agrada a quem busca um '\n",
       "                                   'sabor mais completo e tradicional.'},\n",
       "              'score': 0.887983918,\n",
       "              'values': []}],\n",
       " 'namespace': 'ns1',\n",
       " 'usage': {'read_units': 6}}"
      ]
     },
     "execution_count": 25,
     "metadata": {},
     "output_type": "execute_result"
    }
   ],
   "source": [
    "results"
   ]
  }
 ],
 "metadata": {},
 "nbformat": 4,
 "nbformat_minor": 5
}