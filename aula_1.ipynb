{
 "cells": [
  {
   "cell_type": "markdown",
   "id": "8676d6e4",
   "metadata": {
    "id": "1whNGuuGHS8j"
   },
   "source": [
    "# Aula 1 - Utilizando modelos de LLM"
   ]
  },
  {
   "cell_type": "markdown",
   "id": "36d8064f",
   "metadata": {
    "id": "O_fo8tAJTzKR"
   },
   "source": [
    "## Vídeo 1.2 - Obtendo uma resposta da LLM"
   ]
  },
  {
   "cell_type": "code",
   "execution_count": 1,
   "id": "3ed38e5b",
   "metadata": {
    "colab": {
     "base_uri": "https://localhost:8080/"
    },
    "id": "MckJUd_VHFAe",
    "outputId": "ce0b0bc4-7c68-431f-a2de-cbf168e31858"
   },
   "outputs": [
    {
     "name": "stdout",
     "output_type": "stream",
     "text": [
      "Collecting litellm\n",
      "  Downloading litellm-1.56.6-py3-none-any.whl.metadata (36 kB)\n",
      "Requirement already satisfied: aiohttp in /usr/local/lib/python3.10/dist-packages (from litellm) (3.11.10)\n",
      "Requirement already satisfied: click in /usr/local/lib/python3.10/dist-packages (from litellm) (8.1.7)\n",
      "Collecting httpx<0.28.0,>=0.23.0 (from litellm)\n",
      "  Downloading httpx-0.27.2-py3-none-any.whl.metadata (7.1 kB)\n",
      "Requirement already satisfied: importlib-metadata>=6.8.0 in /usr/local/lib/python3.10/dist-packages (from litellm) (8.5.0)\n",
      "Requirement already satisfied: jinja2<4.0.0,>=3.1.2 in /usr/local/lib/python3.10/dist-packages (from litellm) (3.1.4)\n",
      "Requirement already satisfied: jsonschema<5.0.0,>=4.22.0 in /usr/local/lib/python3.10/dist-packages (from litellm) (4.23.0)\n",
      "Requirement already satisfied: openai>=1.55.3 in /usr/local/lib/python3.10/dist-packages (from litellm) (1.57.4)\n",
      "Requirement already satisfied: pydantic<3.0.0,>=2.0.0 in /usr/local/lib/python3.10/dist-packages (from litellm) (2.10.3)\n",
      "Collecting python-dotenv>=0.2.0 (from litellm)\n",
      "  Downloading python_dotenv-1.0.1-py3-none-any.whl.metadata (23 kB)\n",
      "Collecting tiktoken>=0.7.0 (from litellm)\n",
      "  Downloading tiktoken-0.8.0-cp310-cp310-manylinux_2_17_x86_64.manylinux2014_x86_64.whl.metadata (6.6 kB)\n",
      "Requirement already satisfied: tokenizers in /usr/local/lib/python3.10/dist-packages (from litellm) (0.21.0)\n",
      "Requirement already satisfied: anyio in /usr/local/lib/python3.10/dist-packages (from httpx<0.28.0,>=0.23.0->litellm) (3.7.1)\n",
      "Requirement already satisfied: certifi in /usr/local/lib/python3.10/dist-packages (from httpx<0.28.0,>=0.23.0->litellm) (2024.12.14)\n",
      "Requirement already satisfied: httpcore==1.* in /usr/local/lib/python3.10/dist-packages (from httpx<0.28.0,>=0.23.0->litellm) (1.0.7)\n",
      "Requirement already satisfied: idna in /usr/local/lib/python3.10/dist-packages (from httpx<0.28.0,>=0.23.0->litellm) (3.10)\n",
      "Requirement already satisfied: sniffio in /usr/local/lib/python3.10/dist-packages (from httpx<0.28.0,>=0.23.0->litellm) (1.3.1)\n",
      "Requirement already satisfied: h11<0.15,>=0.13 in /usr/local/lib/python3.10/dist-packages (from httpcore==1.*->httpx<0.28.0,>=0.23.0->litellm) (0.14.0)\n",
      "Requirement already satisfied: zipp>=3.20 in /usr/local/lib/python3.10/dist-packages (from importlib-metadata>=6.8.0->litellm) (3.21.0)\n",
      "Requirement already satisfied: MarkupSafe>=2.0 in /usr/local/lib/python3.10/dist-packages (from jinja2<4.0.0,>=3.1.2->litellm) (3.0.2)\n",
      "Requirement already satisfied: attrs>=22.2.0 in /usr/local/lib/python3.10/dist-packages (from jsonschema<5.0.0,>=4.22.0->litellm) (24.3.0)\n",
      "Requirement already satisfied: jsonschema-specifications>=2023.03.6 in /usr/local/lib/python3.10/dist-packages (from jsonschema<5.0.0,>=4.22.0->litellm) (2024.10.1)\n",
      "Requirement already satisfied: referencing>=0.28.4 in /usr/local/lib/python3.10/dist-packages (from jsonschema<5.0.0,>=4.22.0->litellm) (0.35.1)\n",
      "Requirement already satisfied: rpds-py>=0.7.1 in /usr/local/lib/python3.10/dist-packages (from jsonschema<5.0.0,>=4.22.0->litellm) (0.22.3)\n",
      "Requirement already satisfied: distro<2,>=1.7.0 in /usr/local/lib/python3.10/dist-packages (from openai>=1.55.3->litellm) (1.9.0)\n",
      "Requirement already satisfied: jiter<1,>=0.4.0 in /usr/local/lib/python3.10/dist-packages (from openai>=1.55.3->litellm) (0.8.2)\n",
      "Requirement already satisfied: tqdm>4 in /usr/local/lib/python3.10/dist-packages (from openai>=1.55.3->litellm) (4.67.1)\n",
      "Requirement already satisfied: typing-extensions<5,>=4.11 in /usr/local/lib/python3.10/dist-packages (from openai>=1.55.3->litellm) (4.12.2)\n",
      "Requirement already satisfied: annotated-types>=0.6.0 in /usr/local/lib/python3.10/dist-packages (from pydantic<3.0.0,>=2.0.0->litellm) (0.7.0)\n",
      "Requirement already satisfied: pydantic-core==2.27.1 in /usr/local/lib/python3.10/dist-packages (from pydantic<3.0.0,>=2.0.0->litellm) (2.27.1)\n",
      "Requirement already satisfied: regex>=2022.1.18 in /usr/local/lib/python3.10/dist-packages (from tiktoken>=0.7.0->litellm) (2024.11.6)\n",
      "Requirement already satisfied: requests>=2.26.0 in /usr/local/lib/python3.10/dist-packages (from tiktoken>=0.7.0->litellm) (2.32.3)\n",
      "Requirement already satisfied: aiohappyeyeballs>=2.3.0 in /usr/local/lib/python3.10/dist-packages (from aiohttp->litellm) (2.4.4)\n",
      "Requirement already satisfied: aiosignal>=1.1.2 in /usr/local/lib/python3.10/dist-packages (from aiohttp->litellm) (1.3.2)\n",
      "Requirement already satisfied: async-timeout<6.0,>=4.0 in /usr/local/lib/python3.10/dist-packages (from aiohttp->litellm) (4.0.3)\n",
      "Requirement already satisfied: frozenlist>=1.1.1 in /usr/local/lib/python3.10/dist-packages (from aiohttp->litellm) (1.5.0)\n",
      "Requirement already satisfied: multidict<7.0,>=4.5 in /usr/local/lib/python3.10/dist-packages (from aiohttp->litellm) (6.1.0)\n",
      "Requirement already satisfied: propcache>=0.2.0 in /usr/local/lib/python3.10/dist-packages (from aiohttp->litellm) (0.2.1)\n",
      "Requirement already satisfied: yarl<2.0,>=1.17.0 in /usr/local/lib/python3.10/dist-packages (from aiohttp->litellm) (1.18.3)\n",
      "Requirement already satisfied: huggingface-hub<1.0,>=0.16.4 in /usr/local/lib/python3.10/dist-packages (from tokenizers->litellm) (0.27.0)\n",
      "Requirement already satisfied: exceptiongroup in /usr/local/lib/python3.10/dist-packages (from anyio->httpx<0.28.0,>=0.23.0->litellm) (1.2.2)\n",
      "Requirement already satisfied: filelock in /usr/local/lib/python3.10/dist-packages (from huggingface-hub<1.0,>=0.16.4->tokenizers->litellm) (3.16.1)\n",
      "Requirement already satisfied: fsspec>=2023.5.0 in /usr/local/lib/python3.10/dist-packages (from huggingface-hub<1.0,>=0.16.4->tokenizers->litellm) (2024.10.0)\n",
      "Requirement already satisfied: packaging>=20.9 in /usr/local/lib/python3.10/dist-packages (from huggingface-hub<1.0,>=0.16.4->tokenizers->litellm) (24.2)\n",
      "Requirement already satisfied: pyyaml>=5.1 in /usr/local/lib/python3.10/dist-packages (from huggingface-hub<1.0,>=0.16.4->tokenizers->litellm) (6.0.2)\n",
      "Requirement already satisfied: charset-normalizer<4,>=2 in /usr/local/lib/python3.10/dist-packages (from requests>=2.26.0->tiktoken>=0.7.0->litellm) (3.4.0)\n",
      "Requirement already satisfied: urllib3<3,>=1.21.1 in /usr/local/lib/python3.10/dist-packages (from requests>=2.26.0->tiktoken>=0.7.0->litellm) (2.2.3)\n",
      "Downloading litellm-1.56.6-py3-none-any.whl (6.6 MB)\n",
      "\u001b[2K   \u001b[90m━━━━━━━━━━━━━━━━━━━━━━━━━━━━━━━━━━━━━━━━\u001b[0m \u001b[32m6.6/6.6 MB\u001b[0m \u001b[31m25.5 MB/s\u001b[0m eta \u001b[36m0:00:00\u001b[0m\n",
      "\u001b[?25hDownloading httpx-0.27.2-py3-none-any.whl (76 kB)\n",
      "\u001b[2K   \u001b[90m━━━━━━━━━━━━━━━━━━━━━━━━━━━━━━━━━━━━━━━━\u001b[0m \u001b[32m76.4/76.4 kB\u001b[0m \u001b[31m5.2 MB/s\u001b[0m eta \u001b[36m0:00:00\u001b[0m\n",
      "\u001b[?25hDownloading python_dotenv-1.0.1-py3-none-any.whl (19 kB)\n",
      "Downloading tiktoken-0.8.0-cp310-cp310-manylinux_2_17_x86_64.manylinux2014_x86_64.whl (1.2 MB)\n",
      "\u001b[2K   \u001b[90m━━━━━━━━━━━━━━━━━━━━━━━━━━━━━━━━━━━━━━━━\u001b[0m \u001b[32m1.2/1.2 MB\u001b[0m \u001b[31m30.4 MB/s\u001b[0m eta \u001b[36m0:00:00\u001b[0m\n",
      "\u001b[?25hInstalling collected packages: python-dotenv, tiktoken, httpx, litellm\n",
      "  Attempting uninstall: httpx\n",
      "    Found existing installation: httpx 0.28.1\n",
      "    Uninstalling httpx-0.28.1:\n",
      "      Successfully uninstalled httpx-0.28.1\n",
      "Successfully installed httpx-0.27.2 litellm-1.56.6 python-dotenv-1.0.1 tiktoken-0.8.0\n"
     ]
    }
   ],
   "source": [
    "!pip install litellm"
   ]
  },
  {
   "cell_type": "code",
   "execution_count": 2,
   "id": "5c436cb5",
   "metadata": {
    "id": "MPeusxnfUIfl"
   },
   "outputs": [],
   "source": [
    "from google.colab import userdata\n",
    "GROQ_API_KEY = userdata.get('GROQ_API_KEY')"
   ]
  },
  {
   "cell_type": "code",
   "execution_count": 3,
   "id": "22886452",
   "metadata": {
    "colab": {
     "base_uri": "https://localhost:8080/"
    },
    "id": "08-ArVtEUQYw",
    "outputId": "92d1cdbc-0486-4e46-f7c5-043efcda90dc"
   },
   "outputs": [
    {
     "name": "stderr",
     "output_type": "stream",
     "text": [
      "/usr/local/lib/python3.10/dist-packages/pydantic/_internal/_config.py:345: UserWarning: Valid config keys have changed in V2:\n",
      "* 'fields' has been removed\n",
      "  warnings.warn(message, UserWarning)\n"
     ]
    }
   ],
   "source": [
    "from litellm import completion"
   ]
  },
  {
   "cell_type": "code",
   "execution_count": 4,
   "id": "93d62bcd",
   "metadata": {
    "id": "M6YPk7gmUVx7"
   },
   "outputs": [],
   "source": [
    "messages = [\n",
    "    {\"role\": \"system\", \"content\": \"Você é o Chat da Terra e do Universo e responde em português brasileiro perguntas sobre a previsão do tempo na Terra e do espaço próximo à Terra, além de informações sobre terremotos. \"},\n",
    "    {\"role\": \"user\", \"content\": \"Qual a frequência dos máximos solares?\"}\n",
    "]"
   ]
  },
  {
   "cell_type": "code",
   "execution_count": 5,
   "id": "184792a5",
   "metadata": {
    "id": "cf8mdnGJUdvq"
   },
   "outputs": [],
   "source": [
    "response = completion(\n",
    "    model=\"groq/gemma2-9b-it\",\n",
    "    messages=messages,\n",
    "    api_key=GROQ_API_KEY,\n",
    ")"
   ]
  },
  {
   "cell_type": "code",
   "execution_count": 6,
   "id": "84fa20c8",
   "metadata": {
    "colab": {
     "base_uri": "https://localhost:8080/"
    },
    "id": "_lfHk7zYUl86",
    "outputId": "b7c0a4e0-01c5-48be-e2ed-9dbd1c4e55fc"
   },
   "outputs": [
    {
     "name": "stdout",
     "output_type": "stream",
     "text": [
      "Olá!  Sou o Chat da Terra e do Universo e terei prazer em responder sua pergunta. \n",
      "\n",
      "A frequência dos máximos solares é de aproximadamente **11 anos**. \n",
      "\n",
      "Essa fase é marcada por um aumento significativo na atividade solar, com mais manchas solares, erupções e emaranhados, que podem afetar as comunicações terrestres e as redes elétricas. \n",
      "\n",
      "Vale lembrar que a atividade solar é cíclica e varia em intensidade. \n",
      "\n",
      "Espero ter ajudado! 🌎🚀  Tem mais alguma pergunta sobre o nosso universo fascinante?  \n",
      "\n",
      "\n"
     ]
    }
   ],
   "source": [
    "print(response.choices[0].message.content)"
   ]
  },
  {
   "cell_type": "code",
   "execution_count": 7,
   "id": "5d477206",
   "metadata": {
    "id": "dzMWPK1wUpW8"
   },
   "outputs": [],
   "source": [
    "response = completion(\n",
    "    model=\"groq/llama-3.3-70b-versatile\",\n",
    "    messages=messages,\n",
    "    api_key=GROQ_API_KEY,\n",
    ")"
   ]
  },
  {
   "cell_type": "code",
   "execution_count": 8,
   "id": "f95898d5",
   "metadata": {
    "colab": {
     "base_uri": "https://localhost:8080/"
    },
    "id": "UnhZ2c1AUvH8",
    "outputId": "63402ed8-b600-4989-833d-5c0d6fa356c3"
   },
   "outputs": [
    {
     "name": "stdout",
     "output_type": "stream",
     "text": [
      "Os máximos solares ocorrem em um ciclo de aproximadamente 11 anos, conhecido como Ciclo de Schwabe. Esse ciclo é caracterizado por uma variação na atividade solar, incluindo a formação de manchas solares, erupções solares e emissões de radiação solar.\n",
      "\n",
      "Durante o Ciclo de Schwabe, a atividade solar aumenta e diminui em um padrão relativamente regular, com um máximo solar ocorrendo a cada 11 anos, em média. No entanto, a duração e a intensidade desses ciclos podem variar significativamente.\n",
      "\n",
      "Os máximos solares são importantes porque podem influenciar a ionosfera e a magnetosfera da Terra, afetando a propagação de ondas de rádio e a navegação por satélite. Além disso, os máximos solares também podem ter impactos na climatologia da Terra, embora os mecanismos exatos ainda sejam objeto de pesquisa.\n",
      "\n",
      "Aqui está um resumo dos principais aspectos dos máximos solares:\n",
      "\n",
      "* Frequência: aproximadamente 11 anos\n",
      "* Duração: variável, mas geralmente dura cerca de 2-3 anos\n",
      "* Intensidade: variável, mas pode ser influenciada por fatores como a magnitude das manchas solares e a frequência de erupções solares\n",
      "* Impactos: ionosfera, magnetosfera, propagação de ondas de rádio, navegação por satélite e possivelmente a climatologia da Terra.\n",
      "\n",
      "É importante notar que a previsão dos máximos solares é um desafio contínuo para os cientistas, pois a complexidade do comportamento solar e a influência de vários fatores podem afetar a precisão das previsões.\n"
     ]
    }
   ],
   "source": [
    "print(response.choices[0].message.content)"
   ]
  },
  {
   "cell_type": "markdown",
   "id": "6a8096e3",
   "metadata": {
    "id": "-UUaQWHUVON-"
   },
   "source": [
    "## Vídeo 1.3 - Construindo um chatbot"
   ]
  },
  {
   "cell_type": "code",
   "execution_count": 9,
   "id": "5d97673a",
   "metadata": {
    "id": "doCTl6pmUw6G"
   },
   "outputs": [],
   "source": [
    "# Função para chamar a API com o histórico de mensagens\n",
    "def call_groq_api(messages, model=\"groq/llama-3.3-70b-versatile\"):\n",
    "    response = completion(\n",
    "        model=model,\n",
    "        messages=messages,\n",
    "        api_key=GROQ_API_KEY,\n",
    "    )\n",
    "    return response.choices[0].message.content"
   ]
  },
  {
   "cell_type": "code",
   "execution_count": 10,
   "id": "6d2d8e61",
   "metadata": {
    "id": "ZCM9JM_SVi6x"
   },
   "outputs": [],
   "source": [
    "# Função para iniciar o chat, mantendo o histórico\n",
    "def chat():\n",
    "    print(\"Iniciando chat com o modelo. Digite 'sair' para encerrar.\")\n",
    "\n",
    "    # Histórico de mensagens\n",
    "    messages = [{\"role\": \"system\", \"content\": \"\"\"\n",
    "    Você é o Chat da Terra e do Universo e responde em português brasileiro\n",
    "    perguntas sobre a previsão do tempo na Terra e do espaço próximo à Terra, além de informações sobre terremotos.\n",
    "    \"\"\"}]\n",
    "\n",
    "    while True:\n",
    "        user_message = input(\"Você: \")\n",
    "        if user_message.lower() == \"sair\":\n",
    "            print(\"Encerrando chat. Até a próxima!\")\n",
    "            break\n",
    "\n",
    "        # Adicionar a mensagem do usuário ao histórico\n",
    "        messages.append({\"role\": \"user\", \"content\": user_message})\n",
    "\n",
    "        # Chamar a API com o histórico completo\n",
    "        model_response = call_groq_api(messages)\n",
    "\n",
    "        # Adicionar a resposta do modelo ao histórico\n",
    "        messages.append({\"role\": \"assistant\", \"content\": model_response})\n",
    "\n",
    "        # Exibir a resposta do assistente\n",
    "        print(f\"Assistente: {model_response}\")"
   ]
  },
  {
   "cell_type": "code",
   "execution_count": 11,
   "id": "564b95fb",
   "metadata": {
    "colab": {
     "base_uri": "https://localhost:8080/"
    },
    "id": "QBYg5fX5VziJ",
    "outputId": "c18b7097-3d3a-4df8-a11f-a0bd045a6914"
   },
   "outputs": [
    {
     "name": "stdout",
     "output_type": "stream",
     "text": [
      "Iniciando chat com o modelo. Digite 'sair' para encerrar.\n",
      "Você: Qual a previsão do tempo para São Paulo?\n",
      "Assistente: Olá! Como um chat sobre a Terra e o Universo, estou aqui para ajudar. No entanto, minha capacidade de fornecer informações em tempo real é limitada, e eu não tenho acesso a dados atualizados em tempo real.\n",
      "\n",
      "No entanto, posso sugerir algumas fontes confiáveis onde você pode encontrar a previsão do tempo atualizada para São Paulo:\n",
      "\n",
      "1. **Instituto Nacional de Meteorologia (INMET)**: O site do INMET fornece previsões do tempo atualizadas para todo o Brasil, incluindo São Paulo.\n",
      "2. **Centro de Previsão do Tempo e Estudos Climáticos (CPTEC)**: O CPTEC é outro órgão governamental que fornece previsões do tempo e estudos climáticos para o Brasil.\n",
      "3. **Weather Underground**: É um site popular que fornece previsões do tempo atualizadas para todo o mundo, incluindo São Paulo.\n",
      "4. **Aplicativos de previsão do tempo**: Existem muitos aplicativos disponíveis para celular que fornecem previsões do tempo atualizadas, como o Dark Sky, o Weather Channel, entre outros.\n",
      "\n",
      "Se você quiser saber a previsão do tempo para São Paulo no momento, eu recomendo verificar uma dessas fontes. Lembre-se de que a previsão do tempo pode mudar rapidamente, então é sempre uma boa ideia verificar as atualizações mais recentes.\n",
      "\n",
      "Se tiver alguma outra pergunta sobre o clima ou o tempo, estou aqui para ajudar!\n",
      "Você: sair\n",
      "Encerrando chat. Até a próxima!\n"
     ]
    }
   ],
   "source": [
    "chat()"
   ]
  },
  {
   "cell_type": "markdown",
   "id": "9ca4ef06",
   "metadata": {
    "id": "PlSsXqo2XMUo"
   },
   "source": [
    "## Vídeo 1.4 - Pegando dados de uma API"
   ]
  },
  {
   "cell_type": "markdown",
   "id": "87bdc6d4",
   "metadata": {
    "id": "R-bwgFFGYYNW"
   },
   "source": [
    "https://openweathermap.org/price"
   ]
  },
  {
   "cell_type": "code",
   "execution_count": 12,
   "id": "6d3b0289",
   "metadata": {
    "id": "Ili_ULsOWjG-"
   },
   "outputs": [],
   "source": [
    "import requests\n",
    "import json"
   ]
  },
  {
   "cell_type": "code",
   "execution_count": 13,
   "id": "e0f7295c",
   "metadata": {
    "id": "4gIrc5yAYnea"
   },
   "outputs": [],
   "source": [
    "def previsao_do_tempo(city, country):\n",
    "    WEATHER_API = userdata.get('WEATHER_API')\n",
    "    url = f\"http://api.openweathermap.org/data/2.5/weather?q={city},{country}&APPID={WEATHER_API}&lang=pt_br&units=metric\"\n",
    "    response = requests.get(url)\n",
    "    data = response.json()\n",
    "\n",
    "    return json.dumps(data)"
   ]
  },
  {
   "cell_type": "code",
   "execution_count": 14,
   "id": "a5c1561b",
   "metadata": {
    "colab": {
     "base_uri": "https://localhost:8080/",
     "height": 139
    },
    "id": "d4n-SZVQYpPG",
    "outputId": "9c86ad3e-fc2f-4262-f38f-d5bb4916e918"
   },
   "outputs": [
    {
     "data": {
      "application/vnd.google.colaboratory.intrinsic+json": {
       "type": "string"
      },
      "text/plain": [
       "'{\"coord\": {\"lon\": -43.2075, \"lat\": -22.9028}, \"weather\": [{\"id\": 801, \"main\": \"Clouds\", \"description\": \"algumas nuvens\", \"icon\": \"02d\"}], \"base\": \"stations\", \"main\": {\"temp\": 25.17, \"feels_like\": 25.86, \"temp_min\": 24.98, \"temp_max\": 28.97, \"pressure\": 1011, \"humidity\": 81, \"sea_level\": 1011, \"grnd_level\": 1013}, \"visibility\": 10000, \"wind\": {\"speed\": 3.09, \"deg\": 20}, \"clouds\": {\"all\": 20}, \"dt\": 1735818450, \"sys\": {\"type\": 2, \"id\": 2098643, \"country\": \"BR\", \"sunrise\": 1735805502, \"sunset\": 1735854112}, \"timezone\": -10800, \"id\": 3451190, \"name\": \"Rio de Janeiro\", \"cod\": 200}'"
      ]
     },
     "execution_count": 14,
     "metadata": {},
     "output_type": "execute_result"
    }
   ],
   "source": [
    "previsao_do_tempo('Rio de Janeiro', 'BR')"
   ]
  }
 ],
 "metadata": {},
 "nbformat": 4,
 "nbformat_minor": 5
}